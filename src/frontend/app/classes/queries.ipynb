{
 "cells": [
  {
   "cell_type": "code",
   "execution_count": 5,
   "metadata": {},
   "outputs": [],
   "source": [
    "import psycopg2\n",
    "\n",
    "PGHOST = 'localhost'\n",
    "PGPORT = \"5432\"\n",
    "PGDATABASE = 'postgres'\n",
    "PGUSER = 'postgres'\n",
    "PGPASSWORD = 'icecreamempire_s4'\n",
    "\n",
    "\n",
    "class Queries:\n",
    "    def __init__(self)-> None:\n",
    "        self.conn = psycopg2.connect(host=PGHOST, port=PGPORT, dbname=PGDATABASE, user=PGUSER, password=PGPASSWORD)\n",
    "        \n",
    "\n",
    "    def get_users(self):\n",
    "        \"\"\"\n",
    "        Example Function to execute a sql statement\n",
    "        \"\"\"\n",
    "        sql= \"\"\"\n",
    "            SELECT * FROM Student\n",
    "        \"\"\"\n",
    "        return self.__execute_sql(sql)\n",
    "    \n",
    "    def __execute_sql(self, sql: str):\n",
    "        try:\n",
    "            cur = self.conn.cursor()\n",
    "            cur.execute(sql)\n",
    "            return cur.fetchall()\n",
    "        except (Exception, psycopg2.DatabaseError) as error:\n",
    "            print(error)\n",
    "    \n",
    "\n",
    "# comand to start the db by its own\n",
    "# docker run --name basic-postgres --rm -e POSTGRES_USER=postgres -e POSTGRES_PASSWORD=icecreamempire_s4 -e PGDATA=/var/lib/postgresql/data/pgdata -v /tmp:/var/lib/postgresql/data -p 5432:5432 -it postgres:14.1-alpine"
   ]
  },
  {
   "cell_type": "code",
   "execution_count": 4,
   "metadata": {},
   "outputs": [
    {
     "name": "stdout",
     "output_type": "stream",
     "text": [
      "5c181dbd435a1b8cef8a045eb69b98c433d405988338d1f89314dd8306f2226d\n"
     ]
    }
   ],
   "source": [
    "! docker run --name basic-postgres --rm -e POSTGRES_USER=postgres -e POSTGRES_PASSWORD=icecreamempire_s4 -e PGDATA=/var/lib/postgresql/data/pgdata -v /tmp:/var/lib/postgresql/data -p 5432:5432 -d postgres:14.1-alpine"
   ]
  },
  {
   "cell_type": "code",
   "execution_count": 24,
   "metadata": {},
   "outputs": [],
   "source": [
    "db = Queries()\n",
    "conn = db.conn\n",
    "cursor = conn.cursor()"
   ]
  },
  {
   "cell_type": "code",
   "execution_count": 11,
   "metadata": {},
   "outputs": [],
   "source": [
    "create_table_query = \"create table Student \\\n",
    "        (id int primary key ,   \\\n",
    "        fname varchar(30)  not null, \\\n",
    "        year int); \"\n",
    "cursor = conn.cursor()\n",
    "cursor.execute(create_table_query)\n",
    "conn.commit()\n",
    "cursor.close()"
   ]
  },
  {
   "cell_type": "code",
   "execution_count": 25,
   "metadata": {},
   "outputs": [],
   "source": [
    "insert_query = \"INSERT INTO Student (id, fname, year)\" \\\n",
    "                \"VALUES (1, 'hallo', 1)\"\n",
    "cursor = conn.cursor()\n",
    "cursor.execute(insert_query)\n",
    "conn.commit()\n",
    "cursor.close()"
   ]
  },
  {
   "cell_type": "code",
   "execution_count": 26,
   "metadata": {},
   "outputs": [
    {
     "data": {
      "text/plain": [
       "[(1, 'hallo', 1)]"
      ]
     },
     "execution_count": 26,
     "metadata": {},
     "output_type": "execute_result"
    }
   ],
   "source": [
    "db.get_users()"
   ]
  },
  {
   "cell_type": "code",
   "execution_count": 15,
   "metadata": {},
   "outputs": [
    {
     "ename": "InFailedSqlTransaction",
     "evalue": "current transaction is aborted, commands ignored until end of transaction block\n",
     "output_type": "error",
     "traceback": [
      "\u001b[0;31m---------------------------------------------------------------------------\u001b[0m",
      "\u001b[0;31mInFailedSqlTransaction\u001b[0m                    Traceback (most recent call last)",
      "Cell \u001b[0;32mIn[15], line 4\u001b[0m\n\u001b[1;32m      1\u001b[0m sql\u001b[39m=\u001b[39m \u001b[39m\"\"\"\u001b[39m\n\u001b[1;32m      2\u001b[0m \u001b[39m    SELECT * FROM Student\u001b[39m\n\u001b[1;32m      3\u001b[0m \u001b[39m\"\"\"\u001b[39m\n\u001b[0;32m----> 4\u001b[0m cursor\u001b[39m.\u001b[39;49mexecute(sql)\n\u001b[1;32m      5\u001b[0m cursor\u001b[39m.\u001b[39mfetchall()\n",
      "\u001b[0;31mInFailedSqlTransaction\u001b[0m: current transaction is aborted, commands ignored until end of transaction block\n"
     ]
    }
   ],
   "source": [
    "sql= \"\"\"\n",
    "    SELECT * FROM Student\n",
    "\"\"\"\n",
    "cursor.execute(sql)\n",
    "cursor.fetchall()"
   ]
  }
 ],
 "metadata": {
  "kernelspec": {
   "display_name": "env",
   "language": "python",
   "name": "python3"
  },
  "language_info": {
   "codemirror_mode": {
    "name": "ipython",
    "version": 3
   },
   "file_extension": ".py",
   "mimetype": "text/x-python",
   "name": "python",
   "nbconvert_exporter": "python",
   "pygments_lexer": "ipython3",
   "version": "3.10.6"
  },
  "orig_nbformat": 4
 },
 "nbformat": 4,
 "nbformat_minor": 2
}
