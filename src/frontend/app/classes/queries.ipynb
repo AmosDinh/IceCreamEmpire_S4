{
 "cells": [
  {
   "cell_type": "code",
   "execution_count": null,
   "metadata": {},
   "outputs": [],
   "source": [
    "import psycopg2\n",
    "from pandas import DataFrame\n",
    "\n",
    "PGHOST = 'localhost'\n",
    "PGPORT = \"5432\"\n",
    "PGDATABASE = 'IceCreamEmpire'\n",
    "PGUSER = 'postgres'\n",
    "PGPASSWORD = '1234'\n",
    "\n",
    "\n",
    "class Queries:\n",
    "    def __init__(self)-> None:\n",
    "        self.conn = psycopg2.connect(host=PGHOST, port=PGPORT, dbname=PGDATABASE, user=PGUSER, password=PGPASSWORD)\n",
    "        \n",
    "\n",
    "    def get_vehicles(self):\n",
    "        \"\"\"\n",
    "        Example Function to execute a sql statement\n",
    "        \"\"\"\n",
    "        sql= \"\"\"\n",
    "            SELECT * FROM Vehicles\n",
    "        \"\"\"\n",
    "        return self.sql(sql)\n",
    "    \n",
    "    \n",
    "    def sql(self, sql: str)-> DataFrame:\n",
    "        \"\"\"\n",
    "        Execute a query and returns a DataFrame\n",
    "        \"\"\"\n",
    "        # Open a cursor to perform database operations\n",
    "        cursor = self.conn.cursor()\n",
    "        sql = sql.strip()\n",
    "\n",
    "        # execute the query\n",
    "        try:\n",
    "            cursor.execute(sql)\n",
    "            if sql.lower().startswith(\"select\"):\n",
    "                columns = list(cursor.description)\n",
    "                result = cursor.fetchall()\n",
    "                results = []\n",
    "                for row in result:\n",
    "                    row_dict = {}\n",
    "                    for i, col in enumerate(columns):\n",
    "                        row_dict[col.name] = row[i]\n",
    "                    results.append(row_dict)\n",
    "                return DataFrame(results)\n",
    "            else:\n",
    "                self.conn.commit()\n",
    "                print(\"Successfully inserted data\")\n",
    "        except (Exception, psycopg2.DatabaseError) as e:\n",
    "            cursor.close()\n",
    "            print(e)\n",
    "        finally:\n",
    "            cursor.close()"
   ]
  },
  {
   "cell_type": "code",
   "execution_count": null,
   "metadata": {},
   "outputs": [],
   "source": [
    "db = Queries()"
   ]
  },
  {
   "cell_type": "code",
   "execution_count": null,
   "metadata": {},
   "outputs": [],
   "source": [
    "sql= \"\"\"\n",
    "    INSERT INTO Vehicles (Vehicle_id, type, storage_capacity) VALUES\n",
    "        (20000, 'Truck', 1000),\n",
    "        (20050, 'Van', 800),\n",
    "        (40000, 'Car', 600); \n",
    "    \"\"\""
   ]
  },
  {
   "cell_type": "code",
   "execution_count": null,
   "metadata": {},
   "outputs": [],
   "source": [
    "db.sql(sql)"
   ]
  },
  {
   "cell_type": "code",
   "execution_count": null,
   "metadata": {},
   "outputs": [],
   "source": [
    "db.sql(\"SELECT * FROM Vehicles\")"
   ]
  }
 ],
 "metadata": {
  "kernelspec": {
   "display_name": "env",
   "language": "python",
   "name": "python3"
  },
  "language_info": {
   "codemirror_mode": {
    "name": "ipython",
    "version": 3
   },
   "file_extension": ".py",
   "mimetype": "text/x-python",
   "name": "python",
   "nbconvert_exporter": "python",
   "pygments_lexer": "ipython3",
   "version": "3.10.6"
  },
  "orig_nbformat": 4
 },
 "nbformat": 4,
 "nbformat_minor": 2
}
